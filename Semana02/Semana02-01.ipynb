{
 "cells": [
  {
   "cell_type": "markdown",
   "id": "f98e837a-6c1a-4b2d-b65c-7b5180806f55",
   "metadata": {},
   "source": [
    "# Semana02\n",
    "Jean Carlos Corrales Colque"
   ]
  },
  {
   "cell_type": "markdown",
   "id": "691b9835-cf67-4639-83ed-5f52126c71ec",
   "metadata": {},
   "source": [
    "# Temas\n",
    " 1. Colecciones de datos\n",
    " 2. Estructuras Decisivas y Estructuras Repetitivas\n",
    " 3. Clases y Objetos\n",
    " 4. Funciones"
   ]
  },
  {
   "cell_type": "code",
   "execution_count": 10,
   "id": "622a1b7c-a656-4456-8b89-dfaafd2f5d1e",
   "metadata": {},
   "outputs": [
    {
     "name": "stdout",
     "output_type": "stream",
     "text": [
      "['Alaluna', 'Avila', 'Cabanillas', 'Camargo']\n"
     ]
    }
   ],
   "source": [
    "# 1.1. listas\n",
    "# Es una colección de elementos que puede ser ordenada,\n",
    "# modificada, etc.\n",
    "#Se identifica por los corchetes\n",
    "# Ejemplo:\n",
    "aula = ['Alaluna','Avila','Cabanillas','Camargo']\n",
    "print(aula)"
   ]
  },
  {
   "cell_type": "code",
   "execution_count": 11,
   "id": "d21abe1b-219d-444f-839f-f724cb87bc5b",
   "metadata": {},
   "outputs": [
    {
     "name": "stdout",
     "output_type": "stream",
     "text": [
      "Alaluna\n",
      "Avila\n"
     ]
    }
   ],
   "source": [
    "print(aula[0])\n",
    "print(aula[1])"
   ]
  },
  {
   "cell_type": "code",
   "execution_count": 12,
   "id": "933d250a-bddd-4a15-ae57-cd9a95de471a",
   "metadata": {},
   "outputs": [
    {
     "data": {
      "text/plain": [
       "'Chavez'"
      ]
     },
     "execution_count": 12,
     "metadata": {},
     "output_type": "execute_result"
    }
   ],
   "source": [
    "#Puedo asignar un valor a la posicion de la lista\n",
    "aula[1]='Chavez'\n",
    "aula[1]"
   ]
  },
  {
   "cell_type": "code",
   "execution_count": 13,
   "id": "1b9ff080-68ae-4ced-b026-ff3abc755953",
   "metadata": {},
   "outputs": [
    {
     "data": {
      "text/plain": [
       "['Alaluna', 'Chavez', 'Cabanillas', 'Camargo']"
      ]
     },
     "execution_count": 13,
     "metadata": {},
     "output_type": "execute_result"
    }
   ],
   "source": [
    "aula"
   ]
  },
  {
   "cell_type": "code",
   "execution_count": 20,
   "id": "e229f0d7-b894-4a6a-bf40-bdf7a4e71e87",
   "metadata": {},
   "outputs": [
    {
     "data": {
      "text/plain": [
       "['Alaluna',\n",
       " 'Chavez',\n",
       " 'Cabanillas',\n",
       " 'Camargo',\n",
       " 'Hermitaño',\n",
       " 'Gomez',\n",
       " 'Hermitaño',\n",
       " 'Gomez',\n",
       " 'Hermitaño',\n",
       " 'Gomez',\n",
       " 'Hermitaño',\n",
       " 'Gomez',\n",
       " 'Hermitaño',\n",
       " 'Gomez',\n",
       " 'Hermitaño',\n",
       " 'Gomez',\n",
       " 'Hermitaño',\n",
       " 'Gomez']"
      ]
     },
     "execution_count": 20,
     "metadata": {},
     "output_type": "execute_result"
    }
   ],
   "source": [
    "#Puedo agregar un elemento utilizamos append\n",
    "aula.append(\"Hermitaño\")\n",
    "aula.append(\"Gomez\")\n",
    "aula"
   ]
  },
  {
   "cell_type": "code",
   "execution_count": 21,
   "id": "16e346bf-71e3-407e-8994-03112479fda0",
   "metadata": {},
   "outputs": [
    {
     "data": {
      "text/plain": [
       "['Alaluna',\n",
       " 'Chavez',\n",
       " 'Cabanillas',\n",
       " 'Camargo',\n",
       " 'Gomez',\n",
       " 'Hermitaño',\n",
       " 'Gomez',\n",
       " 'Hermitaño',\n",
       " 'Gomez',\n",
       " 'Hermitaño',\n",
       " 'Gomez',\n",
       " 'Hermitaño',\n",
       " 'Gomez',\n",
       " 'Hermitaño',\n",
       " 'Gomez',\n",
       " 'Hermitaño',\n",
       " 'Gomez']"
      ]
     },
     "execution_count": 21,
     "metadata": {},
     "output_type": "execute_result"
    }
   ],
   "source": [
    "# Para elininar elementos utilizamos remove[]\n",
    "aula.remove(\"Hermitaño\")\n",
    "aula"
   ]
  },
  {
   "cell_type": "code",
   "execution_count": 26,
   "id": "1a03df07-3708-4f0c-98a1-6436b6f33a86",
   "metadata": {},
   "outputs": [
    {
     "data": {
      "text/plain": [
       "['Alaluna',\n",
       " 'Chavez',\n",
       " 'Cabanillas',\n",
       " 'Camargo',\n",
       " 'Gomez',\n",
       " 'Gomez',\n",
       " 'Gomez',\n",
       " 'Gomez',\n",
       " 'Gomez',\n",
       " 'Gomez',\n",
       " 'Hermitaño',\n",
       " 'Gomez']"
      ]
     },
     "execution_count": 26,
     "metadata": {},
     "output_type": "execute_result"
    }
   ],
   "source": [
    "aula.remove(\"Hermitaño\")\n",
    "aula\n"
   ]
  },
  {
   "cell_type": "code",
   "execution_count": 27,
   "id": "56f8cf23-443a-434d-8324-5d3e06b98180",
   "metadata": {},
   "outputs": [
    {
     "data": {
      "text/plain": [
       "['Alaluna',\n",
       " 'Chavez',\n",
       " 'Cabanillas',\n",
       " 'Camargo',\n",
       " 'Gomez',\n",
       " 'Gomez',\n",
       " 'Gomez',\n",
       " 'Gomez',\n",
       " 'Gomez',\n",
       " 'Hermitaño',\n",
       " 'Gomez']"
      ]
     },
     "execution_count": 27,
     "metadata": {},
     "output_type": "execute_result"
    }
   ],
   "source": [
    "aula.remove(\"Gomez\")\n",
    "aula"
   ]
  },
  {
   "cell_type": "code",
   "execution_count": 28,
   "id": "8d7853b3-58ca-4865-9802-53b4a81ebde2",
   "metadata": {},
   "outputs": [
    {
     "data": {
      "text/plain": [
       "['Alaluna',\n",
       " 'Chavez',\n",
       " 'Cabanillas',\n",
       " 'Camargo',\n",
       " 'Gomez',\n",
       " 'Gomez',\n",
       " 'Gomez',\n",
       " 'Gomez',\n",
       " 'Hermitaño',\n",
       " 'Gomez']"
      ]
     },
     "execution_count": 28,
     "metadata": {},
     "output_type": "execute_result"
    }
   ],
   "source": [
    "aula.remove(\"Gomez\")\n",
    "aula"
   ]
  },
  {
   "cell_type": "code",
   "execution_count": 29,
   "id": "c35ac8d3-cf5c-4a90-88c4-99ccb10ed4e4",
   "metadata": {},
   "outputs": [
    {
     "data": {
      "text/plain": [
       "['Alaluna',\n",
       " 'Chavez',\n",
       " 'Cabanillas',\n",
       " 'Camargo',\n",
       " 'Gomez',\n",
       " 'Gomez',\n",
       " 'Gomez',\n",
       " 'Hermitaño',\n",
       " 'Gomez']"
      ]
     },
     "execution_count": 29,
     "metadata": {},
     "output_type": "execute_result"
    }
   ],
   "source": [
    "aula.remove(\"Gomez\")\n",
    "aula"
   ]
  },
  {
   "cell_type": "code",
   "execution_count": 30,
   "id": "e40bc68a-604b-4802-b3a8-453073c21f8a",
   "metadata": {},
   "outputs": [
    {
     "data": {
      "text/plain": [
       "['Alaluna',\n",
       " 'Chavez',\n",
       " 'Cabanillas',\n",
       " 'Camargo',\n",
       " 'Gomez',\n",
       " 'Gomez',\n",
       " 'Hermitaño',\n",
       " 'Gomez']"
      ]
     },
     "execution_count": 30,
     "metadata": {},
     "output_type": "execute_result"
    }
   ],
   "source": [
    "aula.remove(\"Gomez\")\n",
    "aula"
   ]
  },
  {
   "cell_type": "code",
   "execution_count": 31,
   "id": "41594269-21fa-43ae-8646-73d4602c244b",
   "metadata": {},
   "outputs": [
    {
     "data": {
      "text/plain": [
       "['Alaluna', 'Chavez', 'Cabanillas', 'Camargo', 'Gomez', 'Hermitaño', 'Gomez']"
      ]
     },
     "execution_count": 31,
     "metadata": {},
     "output_type": "execute_result"
    }
   ],
   "source": [
    "aula.remove(\"Gomez\")\n",
    "aula"
   ]
  },
  {
   "cell_type": "code",
   "execution_count": 32,
   "id": "e30d0376-206c-432e-a16e-ebabf019896a",
   "metadata": {},
   "outputs": [
    {
     "data": {
      "text/plain": [
       "['Alaluna', 'Chavez', 'Cabanillas', 'Camargo', 'Hermitaño', 'Gomez']"
      ]
     },
     "execution_count": 32,
     "metadata": {},
     "output_type": "execute_result"
    }
   ],
   "source": [
    "aula.remove(\"Gomez\")\n",
    "aula"
   ]
  },
  {
   "cell_type": "code",
   "execution_count": null,
   "id": "4188d440-ea38-4752-9ee6-b47aed461c44",
   "metadata": {},
   "outputs": [],
   "source": []
  }
 ],
 "metadata": {
  "kernelspec": {
   "display_name": "Python 3 (ipykernel)",
   "language": "python",
   "name": "python3"
  },
  "language_info": {
   "codemirror_mode": {
    "name": "ipython",
    "version": 3
   },
   "file_extension": ".py",
   "mimetype": "text/x-python",
   "name": "python",
   "nbconvert_exporter": "python",
   "pygments_lexer": "ipython3",
   "version": "3.12.7"
  }
 },
 "nbformat": 4,
 "nbformat_minor": 5
}
