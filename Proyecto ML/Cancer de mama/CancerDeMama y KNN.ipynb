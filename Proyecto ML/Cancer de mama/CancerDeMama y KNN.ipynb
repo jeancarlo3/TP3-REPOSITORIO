{
 "cells": [
  {
   "cell_type": "code",
   "execution_count": 2,
   "id": "3b7180e3-3bad-47f9-9b9b-443ada2be6fe",
   "metadata": {},
   "outputs": [],
   "source": [
    "import pandas as pd\n",
    "import numpy as np\n",
    "import matplotlib.pyplot as plt\n",
    "import seaborn as sb\n",
    "\n",
    "dataframe = pd.read_csv('DSCancerDeMamaSinDatosPerdidos.csv', sep=';')"
   ]
  },
  {
   "cell_type": "code",
   "execution_count": 26,
   "id": "d809b331-4ef7-4d9a-9d05-634d2cdf80a8",
   "metadata": {},
   "outputs": [],
   "source": [
    "dataframe.head(10)\n",
    "clasificadores = ['Benigno','Maligno']"
   ]
  },
  {
   "cell_type": "code",
   "execution_count": 28,
   "id": "f9ac24fc-e8b5-4093-87dd-8b0b66038f10",
   "metadata": {},
   "outputs": [],
   "source": [
    "y = dataframe['Severity']\n",
    "x = dataframe.drop( 'Severity',axis=1)"
   ]
  },
  {
   "cell_type": "code",
   "execution_count": 30,
   "id": "53f9d98e-08ff-4a89-a63f-4ce330a1bc6c",
   "metadata": {},
   "outputs": [
    {
     "data": {
      "text/plain": [
       "Severity\n",
       "0    425\n",
       "1    395\n",
       "dtype: int64"
      ]
     },
     "execution_count": 30,
     "metadata": {},
     "output_type": "execute_result"
    }
   ],
   "source": [
    "dataframe.groupby('Severity').size()"
   ]
  },
  {
   "cell_type": "code",
   "execution_count": 32,
   "id": "099faa6e-0d55-4505-9d72-152dc52c8fc0",
   "metadata": {},
   "outputs": [
    {
     "data": {
      "text/plain": [
       "<seaborn.axisgrid.FacetGrid at 0x1c6892415b0>"
      ]
     },
     "execution_count": 32,
     "metadata": {},
     "output_type": "execute_result"
    },
    {
     "data": {
      "image/png": "[encoded data removed]",
      "text/plain": [
       "<Figure size 211.111x250 with 1 Axes>"
      ]
     },
     "metadata": {},
     "output_type": "display_data"
    }
   ],
   "source": [
    "sb.catplot(x = 'Severity',data=dataframe,kind=\"count\",height=2.5,aspect=.8)"
   ]
  },
  {
   "cell_type": "code",
   "execution_count": 34,
   "id": "002089ff-d453-4a1f-87c0-14b99ef149ae",
   "metadata": {},
   "outputs": [],
   "source": [
    "y = dataframe['Severity']\n",
    "x = dataframe.drop('Severity',axis=1)"
   ]
  },
  {
   "cell_type": "code",
   "execution_count": 36,
   "id": "f1503e34-904b-45fe-bd51-118284200464",
   "metadata": {},
   "outputs": [
    {
     "name": "stdout",
     "output_type": "stream",
     "text": [
      "         Benigno  Maligno\n",
      "Benigno      104       15\n",
      "Maligno       27      100\n",
      "              precision    recall  f1-score   support\n",
      "\n",
      "     Benigno       0.79      0.87      0.83       119\n",
      "     Maligno       0.87      0.79      0.83       127\n",
      "\n",
      "    accuracy                           0.83       246\n",
      "   macro avg       0.83      0.83      0.83       246\n",
      "weighted avg       0.83      0.83      0.83       246\n",
      "\n"
     ]
    }
   ],
   "source": [
    "from sklearn.model_selection import train_test_split\n",
    "x_train,x_test,y_train, y_test = train_test_split(x,y,test_size=0.3,random_state=30)\n",
    "\n",
    "from sklearn.neighbors import KNeighborsClassifier\n",
    "knn_mm = KNeighborsClassifier(n_neighbors=5)\n",
    "\n",
    "#Entrenar el algoritmo\n",
    "knn_mm.fit(x_train,y_train)\n",
    "predicciones = knn_mm.predict(x_test)\n",
    "\n",
    "from sklearn.metrics import classification_report, confusion_matrix\n",
    "tn, fp, fn, tp = confusion_matrix(y_test,predicciones).ravel()\n",
    "\n",
    "labels = [\"Benigno\",\"Maligno\"]\n",
    "matriz = confusion_matrix(y_test,predicciones, labels=[0,1])\n",
    "print(pd.DataFrame(matriz, index = labels, columns = labels))\n",
    "\n",
    "print(classification_report(y_test,predicciones,target_names=clasificadores))"
   ]
  },
  {
   "cell_type": "code",
   "execution_count": 38,
   "id": "8aaf7c0b-2db8-4bb3-8c30-2a8b2d9b6cfc",
   "metadata": {},
   "outputs": [
    {
     "name": "stdout",
     "output_type": "stream",
     "text": [
      "[1]\n",
      "[[0.4 0.6]]\n"
     ]
    },
    {
     "name": "stderr",
     "output_type": "stream",
     "text": [
      "C:\\Users\\Alumno\\anaconda3\\Lib\\site-packages\\sklearn\\base.py:493: UserWarning: X does not have valid feature names, but KNeighborsClassifier was fitted with feature names\n",
      "  warnings.warn(\n",
      "C:\\Users\\Alumno\\anaconda3\\Lib\\site-packages\\sklearn\\base.py:493: UserWarning: X does not have valid feature names, but KNeighborsClassifier was fitted with feature names\n",
      "  warnings.warn(\n"
     ]
    }
   ],
   "source": [
    "print(knn_mm.predict([[4,65,3,5,3]]))\n",
    "print(knn_mm.predict_proba([[4,65,3,5,3]]))\n"
   ]
  },
  {
   "cell_type": "code",
   "execution_count": null,
   "id": "565e88bb-6518-4130-95a9-571045d3a85e",
   "metadata": {},
   "outputs": [],
   "source": []
  }
 ],
 "metadata": {
  "kernelspec": {
   "display_name": "Python [conda env:base] *",
   "language": "python",
   "name": "conda-base-py"
  },
  "language_info": {
   "codemirror_mode": {
    "name": "ipython",
    "version": 3
   },
   "file_extension": ".py",
   "mimetype": "text/x-python",
   "name": "python",
   "nbconvert_exporter": "python",
   "pygments_lexer": "ipython3",
   "version": "3.12.7"
  }
 },
 "nbformat": 4,
 "nbformat_minor": 5
}
